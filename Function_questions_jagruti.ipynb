{
 "cells": [
  {
   "cell_type": "markdown",
   "id": "c3a6d6d6-4733-4077-9616-2ab0666f63b8",
   "metadata": {},
   "source": [
    "#### Basic Functions Assignments"
   ]
  },
  {
   "cell_type": "code",
   "execution_count": null,
   "id": "2391280c-b25b-4ae7-befc-6c6e4012da92",
   "metadata": {},
   "outputs": [],
   "source": [
    "# Q1.you are given a temperature in celius. your task is to convert it to fahrenheit \n",
    "# and return the result\n",
    "# # formula: f = (9/5*c)+32    "
   ]
  },
  {
   "cell_type": "code",
   "execution_count": 11,
   "id": "930d091a-b20c-44b8-ad35-9d4aed55739c",
   "metadata": {},
   "outputs": [
    {
     "name": "stdin",
     "output_type": "stream",
     "text": [
      "Enter temperature in Celsius:  40\n"
     ]
    },
    {
     "data": {
      "text/plain": [
       "104.0"
      ]
     },
     "execution_count": 11,
     "metadata": {},
     "output_type": "execute_result"
    }
   ],
   "source": [
    "def converter(c):\n",
    "    fahrenheit=(9/5*c)+32\n",
    "    return fahrenheit\n",
    "celsius = float(input(\"Enter temperature in Celsius: \"))\n",
    "convert(celsius)"
   ]
  },
  {
   "cell_type": "code",
   "execution_count": null,
   "id": "d190ac03-a290-4262-aa19-3f7c939bafee",
   "metadata": {},
   "outputs": [],
   "source": [
    "# Q2.You are given the length and breadth of a rectangle. Your task is to compute and return the \n",
    "# area of the rectangle."
   ]
  },
  {
   "cell_type": "code",
   "execution_count": 15,
   "id": "abe7bde7-207b-423b-bf19-57e772dd150c",
   "metadata": {},
   "outputs": [
    {
     "data": {
      "text/plain": [
       "20"
      ]
     },
     "execution_count": 15,
     "metadata": {},
     "output_type": "execute_result"
    }
   ],
   "source": [
    "def area(l,b):\n",
    "    rectangular=l*b\n",
    "    return rectangular\n",
    "area(4,5)"
   ]
  },
  {
   "cell_type": "code",
   "execution_count": null,
   "id": "bd06e2e7-e36b-400b-b429-8b99bf6ebfdb",
   "metadata": {},
   "outputs": [],
   "source": [
    "# Q3.You are given the speed of a vehicle and the time it has traveled. Your task\n",
    "# is to compute and return the distance \n",
    "# traveled by the vehicle."
   ]
  },
  {
   "cell_type": "code",
   "execution_count": 17,
   "id": "6b09ee07-3a4b-454a-b738-ff2cbae786b9",
   "metadata": {},
   "outputs": [
    {
     "data": {
      "text/plain": [
       "120"
      ]
     },
     "execution_count": 17,
     "metadata": {},
     "output_type": "execute_result"
    }
   ],
   "source": [
    "def cal_distance(t,s):\n",
    "    distance=s*t\n",
    "    return distance\n",
    "cal_distance(2,60)\n",
    "    "
   ]
  },
  {
   "cell_type": "code",
   "execution_count": null,
   "id": "fa161869-9619-4230-9d6c-eeea5997d017",
   "metadata": {},
   "outputs": [],
   "source": [
    "# Q4.You are given n, the total number of people, and capacity, the maximum number of \n",
    "# people the lift can carry at a time. All people want to go from the ground floor to \n",
    "# the top floor. Your task is to calculate the number of rounds the lift has to make to\n",
    "# transport all the people to the top floor."
   ]
  },
  {
   "cell_type": "code",
   "execution_count": 53,
   "id": "02bf5ce6-447b-41c2-b600-1c976455492e",
   "metadata": {},
   "outputs": [
    {
     "data": {
      "text/plain": [
       "2"
      ]
     },
     "execution_count": 53,
     "metadata": {},
     "output_type": "execute_result"
    }
   ],
   "source": [
    "def cal_round(n, capacity):\n",
    "        rounds=(n+capacity-1)//capacity\n",
    "        return rounds\n",
    "cal_round(10,3)\n",
    "cal_round(7,4)    "
   ]
  },
  {
   "cell_type": "code",
   "execution_count": null,
   "id": "28858f18-daf8-44a4-bf7b-47554cd8324a",
   "metadata": {},
   "outputs": [],
   "source": [
    "# Q5.You are given the slope m and the y-intercept b of a line, along with\n",
    "# a value x. Your task is to calculate and return the value of y using \n",
    "# the equation of a line in slope-intercept form:"
   ]
  },
  {
   "cell_type": "code",
   "execution_count": 59,
   "id": "387b07ce-b186-4dec-ad21-456275763d33",
   "metadata": {},
   "outputs": [
    {
     "name": "stdin",
     "output_type": "stream",
     "text": [
      "Enter the slope (m):  2\n",
      "Enter the y-intercept (b):  3\n",
      "Enter the x-coordinate (x):  4\n"
     ]
    },
    {
     "data": {
      "text/plain": [
       "11"
      ]
     },
     "execution_count": 59,
     "metadata": {},
     "output_type": "execute_result"
    }
   ],
   "source": [
    "def calculate(m,b,x):\n",
    "    y=m*x+b\n",
    "    return int(y)\n",
    "m = float(input(\"Enter the slope (m): \"))\n",
    "b = float(input(\"Enter the y-intercept (b): \"))\n",
    "x = float(input(\"Enter the x-coordinate (x): \"))\n",
    "calculate(m,b,x)\n"
   ]
  },
  {
   "cell_type": "markdown",
   "id": "caeb555e-3d04-4ba5-a403-abba507897f3",
   "metadata": {},
   "source": [
    "#### Advanced Functions Assignments"
   ]
  },
  {
   "cell_type": "code",
   "execution_count": null,
   "id": "f9262573-c305-4be9-a396-df5333ea9db0",
   "metadata": {},
   "outputs": [],
   "source": [
    "# Q1.Define a recursive function to calculate the nth Fibonacci number using memoization. Test the function with different inputs."
   ]
  },
  {
   "cell_type": "code",
   "execution_count": null,
   "id": "d5bf3813-b1fd-4ed3-a9c1-7deafb78f1f0",
   "metadata": {},
   "outputs": [],
   "source": [
    "# In this I didn't understand that how to do using memoization."
   ]
  },
  {
   "cell_type": "code",
   "execution_count": 101,
   "id": "9182987c-46d6-45e7-9955-201c110052f8",
   "metadata": {},
   "outputs": [
    {
     "data": {
      "text/plain": [
       "[0, 1, 1, 2, 3, 5, 8, 13]"
      ]
     },
     "execution_count": 101,
     "metadata": {},
     "output_type": "execute_result"
    }
   ],
   "source": [
    "def fibonacci(n):\n",
    "    fib_seq=[0,1]\n",
    "    for i in range(2,n):\n",
    "        fib_seq.append(fib_seq[-2] + fib_seq[-1])\n",
    "    return fib_seq\n",
    "fibonacci(8)    "
   ]
  },
  {
   "cell_type": "code",
   "execution_count": null,
   "id": "59bcf64f-254f-4b79-9e7b-193a06b0ced7",
   "metadata": {},
   "outputs": [],
   "source": [
    "# Q2.Define a function that takes two arguments, a and b, where b is a dictionary with a default value of an empty dictionary. The function should add \n",
    "# a new key-value pair to the dictionary and return it. Test the function with different inputs."
   ]
  },
  {
   "cell_type": "code",
   "execution_count": 99,
   "id": "e7f55062-5890-4b39-bc4d-66d9fdee568b",
   "metadata": {},
   "outputs": [
    {
     "data": {
      "text/plain": [
       "'c'"
      ]
     },
     "execution_count": 99,
     "metadata": {},
     "output_type": "execute_result"
    }
   ],
   "source": [
    "dict={1:'a',2:'b',3:'c'}\n",
    "dict[4]='d'   \n",
    "dict[3]"
   ]
  },
  {
   "cell_type": "code",
   "execution_count": 134,
   "id": "08d9e152-bde6-4423-beb1-f37cd83e9687",
   "metadata": {},
   "outputs": [
    {
     "data": {
      "text/plain": [
       "{'python': 'Object Oriented Languange'}"
      ]
     },
     "execution_count": 134,
     "metadata": {},
     "output_type": "execute_result"
    }
   ],
   "source": [
    "def diff_input(a,b={}):\n",
    "    b[a]='Object Oriented Languange'\n",
    "    return b\n",
    "diff_input('python')  "
   ]
  },
  {
   "cell_type": "code",
   "execution_count": 49,
   "id": "50f64776-6d4d-4e8e-bcd3-8250adc76f44",
   "metadata": {},
   "outputs": [],
   "source": [
    "# Q3.Define a function that takes a variable number of keyword arguments and returns a dictionary containing only those key-value pairs where the value\n",
    "# is an integer.Test the function with different inputs."
   ]
  },
  {
   "cell_type": "code",
   "execution_count": 168,
   "id": "cf5e427e-5613-4454-89a5-b47586b5b0fe",
   "metadata": {},
   "outputs": [
    {
     "name": "stdout",
     "output_type": "stream",
     "text": [
      "{1: 3}\n",
      "{3: 56}\n"
     ]
    }
   ],
   "source": [
    "d={1:3,2:'eer',3:56}\n",
    "dict=d.items()\n",
    "# dict\n",
    "for k,v in dict:\n",
    "    # print(v)\n",
    "    if type(v)==int:\n",
    "        print({k:v})"
   ]
  },
  {
   "cell_type": "code",
   "execution_count": 9,
   "id": "50753e91-dd3b-4d5a-9556-48c8f80aa7e2",
   "metadata": {},
   "outputs": [
    {
     "data": {
      "text/plain": [
       "{4: 56}"
      ]
     },
     "execution_count": 9,
     "metadata": {},
     "output_type": "execute_result"
    }
   ],
   "source": [
    "def var_args(data={}):\n",
    "    for k,v in data.items():\n",
    "        if type(v)==int:\n",
    "            return {k:v}\n",
    "var_args({4:56,45:'djshj'})    "
   ]
  },
  {
   "cell_type": "code",
   "execution_count": null,
   "id": "ba647426-2df1-40ae-bffb-23266cb9d6d3",
   "metadata": {},
   "outputs": [],
   "source": [
    "# Q4.Define a function that takes another function as a callback and a list of integers. The function should apply the callback to each integer in the \n",
    "# list and return a new list with the results. Test with different callback functions."
   ]
  },
  {
   "cell_type": "code",
   "execution_count": 391,
   "id": "3e827ae2-6146-4bdf-a338-0eacf695c7ff",
   "metadata": {},
   "outputs": [
    {
     "name": "stdout",
     "output_type": "stream",
     "text": [
      "[2, 4, 6, 8, 10]\n"
     ]
    }
   ],
   "source": [
    "num=[1,2,3,4,5]\n",
    "new_lst=[]\n",
    "for n in num:\n",
    "    res=n+n\n",
    "    new_lst.append(res)\n",
    "print(new_lst)\n"
   ]
  },
  {
   "cell_type": "code",
   "execution_count": 53,
   "id": "ac7cb108-3975-4e7d-902e-13a9929cb458",
   "metadata": {},
   "outputs": [
    {
     "name": "stdout",
     "output_type": "stream",
     "text": [
      "[1]\n",
      "None\n",
      "[1, 4]\n",
      "None\n",
      "[1, 4, 9]\n",
      "None\n",
      "[1, 4, 9, 16]\n",
      "None\n",
      "[1, 4, 9, 16, 25]\n",
      "None\n"
     ]
    }
   ],
   "source": [
    "def callback_function(c,num):\n",
    "    for n in num:\n",
    "        print(c(n))\n",
    "def add(n):\n",
    "    res=n*n\n",
    "    new_list.append(res)\n",
    "    print(new_list)\n",
    "new_list=[]\n",
    "num=[1,2,3,4,5]\n",
    "callback_function(add,num)    "
   ]
  },
  {
   "cell_type": "code",
   "execution_count": 47,
   "id": "1e16a7be-ee7f-4779-9d80-074ec29fe297",
   "metadata": {},
   "outputs": [],
   "source": [
    "# Q5. Define a function that returns another function. The returned function should take an integer and return its square. Test the returned function \n",
    "# with different inputs."
   ]
  },
  {
   "cell_type": "code",
   "execution_count": 95,
   "id": "f3a88fe3-87ea-485c-b865-4e239295a117",
   "metadata": {},
   "outputs": [
    {
     "data": {
      "text/plain": [
       "4"
      ]
     },
     "execution_count": 95,
     "metadata": {},
     "output_type": "execute_result"
    }
   ],
   "source": [
    "def square_function():\n",
    "    def square(x):\n",
    "        return  x*x\n",
    "    return square\n",
    "result=square_function()\n",
    "result(2)"
   ]
  },
  {
   "cell_type": "code",
   "execution_count": null,
   "id": "6f2c2650-284d-4d15-9039-e7a6b01be097",
   "metadata": {},
   "outputs": [],
   "source": [
    "# Q6 Define a function that calculates the time taken to execute another function. Apply this decorator to a function that performs a complex\n",
    "# calculation.Test the decorated function with different inputs."
   ]
  },
  {
   "cell_type": "code",
   "execution_count": null,
   "id": "78749a6f-63e4-4f06-acdc-b0d209359bfd",
   "metadata": {},
   "outputs": [],
   "source": [
    "# Q7. Define a higher-order function that takes two functions, a filter function and a map function, along with a list of integers. The higher-order\n",
    "# function should first filter the integers using the filter function and then apply the map function to the filtered integers. Test with different \n",
    "# filter and map functions."
   ]
  },
  {
   "cell_type": "code",
   "execution_count": 97,
   "id": "13fa0dc6-a2e3-4af8-a23e-04b7d3d8df60",
   "metadata": {},
   "outputs": [],
   "source": [
    "# Q8.Define a function that composes two functions, f and g, such that the result is f(g(x)). Test with different functions f and g.    "
   ]
  },
  {
   "cell_type": "code",
   "execution_count": 113,
   "id": "bd90150b-62dd-45b1-bd81-2888ef55ed01",
   "metadata": {},
   "outputs": [
    {
     "name": "stdout",
     "output_type": "stream",
     "text": [
      "12\n"
     ]
    }
   ],
   "source": [
    "def compose(f,g):\n",
    "    return lambda x : f(g(x))\n",
    "def add_2(x):\n",
    "    return x+2\n",
    "def mutiple(x):\n",
    "    return x*2\n",
    "composed=compose(add_2,mutiple)\n",
    "print(composed(5))"
   ]
  },
  {
   "cell_type": "code",
   "execution_count": null,
   "id": "2c4c624b-4a8e-494f-8679-8c9737bb96f1",
   "metadata": {},
   "outputs": [],
   "source": [
    "# Q9.Use the functools.partial function to create a new function that multiplies its input by 2. Test the new function with different inputs."
   ]
  },
  {
   "cell_type": "code",
   "execution_count": null,
   "id": "c57e49bc-a9d1-4edc-a40e-53308ecf16f1",
   "metadata": {},
   "outputs": [],
   "source": [
    "# Q10.Define a function that takes a list of integers and returns their average. The function should handle any errors that occur (e.g., empty list) and\n",
    "# return None in such cases. Test with different inputs."
   ]
  },
  {
   "cell_type": "code",
   "execution_count": 137,
   "id": "9091c464-9e8d-41eb-839a-216b78acc8ae",
   "metadata": {},
   "outputs": [
    {
     "name": "stdout",
     "output_type": "stream",
     "text": [
      "3.0\n",
      "None\n"
     ]
    }
   ],
   "source": [
    "def error_handling(numbers):\n",
    "    try:\n",
    "        if not numbers:\n",
    "            return None\n",
    "        return sum(numbers)/len(numbers)\n",
    "    except:\n",
    "        return None\n",
    "print(error_handling([1, 2, 3, 4, 5]))\n",
    "print(error_handling([1, 2, 'a', 4, 5]))"
   ]
  },
  {
   "cell_type": "code",
   "execution_count": null,
   "id": "2342cb63-0c74-4ccf-ae7c-828d0c71825c",
   "metadata": {},
   "outputs": [],
   "source": [
    "# Q11.Define a function that generates an infinite sequence of Fibonacci numbers. Test by printing the first 10 numbers in the sequence."
   ]
  },
  {
   "cell_type": "code",
   "execution_count": 103,
   "id": "caa0e3c5-618a-4572-9183-ca312255075b",
   "metadata": {},
   "outputs": [
    {
     "data": {
      "text/plain": [
       "[0, 1, 1, 2, 3, 5, 8, 13, 21, 34]"
      ]
     },
     "execution_count": 103,
     "metadata": {},
     "output_type": "execute_result"
    }
   ],
   "source": [
    "def fibonacci(n):\n",
    "    fib_seq=[0,1]\n",
    "    for i in range(2,n):\n",
    "        fib_seq.append(fib_seq[-2] + fib_seq[-1])\n",
    "    return fib_seq\n",
    "fibonacci(10) "
   ]
  },
  {
   "cell_type": "code",
   "execution_count": 165,
   "id": "f086e41f-8670-4872-9ad7-bcede62059e4",
   "metadata": {},
   "outputs": [],
   "source": [
    "# Q12.Define a curried function that takes three arguments, one at a time, and returns their product. Test the function by providing arguments one at a\n",
    "# time."
   ]
  },
  {
   "cell_type": "code",
   "execution_count": 105,
   "id": "05b3a9ef-1184-4de9-9398-9e52cf5b5f0c",
   "metadata": {},
   "outputs": [
    {
     "name": "stdout",
     "output_type": "stream",
     "text": [
      "24\n"
     ]
    }
   ],
   "source": [
    "def curried(x):\n",
    "    def add(y):\n",
    "        def mul(z):\n",
    "            return x*y*z\n",
    "        return mul\n",
    "    return add\n",
    "curried_func=curried(2)(3)(4)\n",
    "print(curried_func)  "
   ]
  },
  {
   "cell_type": "code",
   "execution_count": null,
   "id": "21ebae0f-c21d-4b21-b714-c438bd7545b9",
   "metadata": {},
   "outputs": [],
   "source": [
    "# Q13.Define a function that uses a context manager to write a list of integers to a file. The function should handle any errors that occur during file \n",
    "# operations. Test with different lists."
   ]
  },
  {
   "cell_type": "code",
   "execution_count": 31,
   "id": "1627d0aa-b8df-4b38-a4b5-607c67fb49f2",
   "metadata": {},
   "outputs": [
    {
     "data": {
      "text/plain": [
       "'integer successfully enter'"
      ]
     },
     "execution_count": 31,
     "metadata": {},
     "output_type": "execute_result"
    }
   ],
   "source": [
    "def context_file(filename,integer):\n",
    "    try:\n",
    "        with open(\"numbers.txt\",'w') as f:\n",
    "            for num in integer:\n",
    "                f.write(f\"{num}\\n\")\n",
    "        return \"integer successfully enter\"\n",
    "    except:\n",
    "        return \" Invalid Syntax\"\n",
    "context_file(\"numbers.txt\",[2,3,4,5])\n",
    "context_file(\"numbers.txt\",'ef')\n",
    "    "
   ]
  },
  {
   "cell_type": "code",
   "execution_count": null,
   "id": "0058d8bf-8f0c-479c-992f-cc6567b6ea52",
   "metadata": {},
   "outputs": [],
   "source": [
    "# Q14.Define a function that takes a list of mixed data types (integers, strings, and floats) and returns three lists: one containing all the integers, \n",
    "# one containing all the strings, and one containing all the floats. Test with different inputs."
   ]
  },
  {
   "cell_type": "code",
   "execution_count": 63,
   "id": "5236feab-bdfb-4a89-ad97-1519f0e48b63",
   "metadata": {},
   "outputs": [
    {
     "name": "stdout",
     "output_type": "stream",
     "text": [
      "[23, 78, 67, 22] ['jagruti', 'nanepag', 'jag'] [45.6, 56.2, 32.0]\n"
     ]
    }
   ],
   "source": [
    "list1=['jagruti',23,'nanepag',45.6,78,'jag',56.2,67,22,32.0]\n",
    "lst=[]\n",
    "str=[]\n",
    "flt=[]\n",
    "for i in list1:\n",
    "    if type(i)==int:\n",
    "        lst.append(i)\n",
    "    elif type(i)==float:\n",
    "        flt.append(i)\n",
    "    else:\n",
    "        str.append(i)\n",
    "print(lst,str,flt)       "
   ]
  },
  {
   "cell_type": "code",
   "execution_count": 1,
   "id": "3b1e2c7f-9f79-49d1-80d5-8abd704420aa",
   "metadata": {},
   "outputs": [
    {
     "name": "stdout",
     "output_type": "stream",
     "text": [
      "Integers: [23, 78, 67, 22]\n",
      "Strings: ['jagruti', 'nanepag', 'srush']\n",
      "Floats: [45.6, 56.2, 32.0]\n"
     ]
    }
   ],
   "source": [
    "def split_data_types(data_list):\n",
    "    int_list = []\n",
    "    str_list = []\n",
    "    float_list = []\n",
    "    for i in data_list:\n",
    "        if type(i) == int:\n",
    "            int_list.append(i)\n",
    "        elif type(i) == float:\n",
    "            float_list.append(i)\n",
    "        else:\n",
    "            str_list.append(i)\n",
    "    return int_list, str_list, float_list\n",
    "# Test the function with a specific input\n",
    "list1 = ['jagruti', 23, 'nanepag', 45.6, 78, 'srush', 56.2, 67, 22, 32.0]\n",
    "integers, strings, floats = split_data_types(list1)\n",
    "print(\"Integers:\", integers)\n",
    "print(\"Strings:\", strings)\n",
    "print(\"Floats:\", floats)"
   ]
  },
  {
   "cell_type": "code",
   "execution_count": null,
   "id": "7ac7f00f-f861-47f5-8191-ac37ede65775",
   "metadata": {},
   "outputs": [],
   "source": [
    "# Q15.Define a function that maintains state between calls using a mutable default argument. The function should keep track of how many times it has been \n",
    "# called. Test by calling the function multiple times"
   ]
  },
  {
   "cell_type": "code",
   "execution_count": 98,
   "id": "704c29ee-fd0b-4e0a-a181-f0306f9e87a0",
   "metadata": {},
   "outputs": [
    {
     "data": {
      "text/plain": [
       "1"
      ]
     },
     "execution_count": 98,
     "metadata": {},
     "output_type": "execute_result"
    }
   ],
   "source": [
    "def calling_function(c=0):\n",
    "    c+=1\n",
    "    return c\n",
    "calling_function()\n",
    "calling_function()"
   ]
  },
  {
   "cell_type": "code",
   "execution_count": null,
   "id": "797ab899-dd9a-420d-9eb4-79fcd10ee7d8",
   "metadata": {},
   "outputs": [],
   "source": [
    "here, some of the question didn't understand. how to"
   ]
  },
  {
   "cell_type": "code",
   "execution_count": null,
   "id": "849ed7ab-0e45-45c1-a760-9277a6d8906b",
   "metadata": {},
   "outputs": [],
   "source": []
  }
 ],
 "metadata": {
  "kernelspec": {
   "display_name": "Python 3 (ipykernel)",
   "language": "python",
   "name": "python3"
  },
  "language_info": {
   "codemirror_mode": {
    "name": "ipython",
    "version": 3
   },
   "file_extension": ".py",
   "mimetype": "text/x-python",
   "name": "python",
   "nbconvert_exporter": "python",
   "pygments_lexer": "ipython3",
   "version": "3.12.4"
  }
 },
 "nbformat": 4,
 "nbformat_minor": 5
}
